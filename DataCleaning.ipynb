{
  "nbformat": 4,
  "nbformat_minor": 0,
  "metadata": {
    "colab": {
      "provenance": [],
      "include_colab_link": true
    },
    "kernelspec": {
      "name": "python3",
      "display_name": "Python 3"
    },
    "language_info": {
      "name": "python"
    },
    "accelerator": "TPU"
  },
  "cells": [
    {
      "cell_type": "markdown",
      "metadata": {
        "id": "view-in-github",
        "colab_type": "text"
      },
      "source": [
        "<a href=\"https://colab.research.google.com/github/vaamps/cyberbullying-detection/blob/main/DataCleaning.ipynb\" target=\"_parent\"><img src=\"https://colab.research.google.com/assets/colab-badge.svg\" alt=\"Open In Colab\"/></a>"
      ]
    },
    {
      "cell_type": "code",
      "source": [
        "!pwd\n",
        "!ls\n",
        "%cd \"drive/MyDrive/CSE 572 DM Final Project/dataset\""
      ],
      "metadata": {
        "colab": {
          "base_uri": "https://localhost:8080/"
        },
        "id": "vDk9Fcja3pOh",
        "outputId": "ac479dc8-3264-4d4b-cef2-31c8921f8d68"
      },
      "execution_count": null,
      "outputs": [
        {
          "output_type": "stream",
          "name": "stdout",
          "text": [
            "/content\n",
            "sample_data\n",
            "[Errno 2] No such file or directory: 'drive/MyDrive/CSE 572 DM Final Project/dataset'\n",
            "/content\n"
          ]
        }
      ]
    },
    {
      "cell_type": "markdown",
      "source": [
        "Youtube cleaning code"
      ],
      "metadata": {
        "id": "CP2suIlr4h9-"
      }
    },
    {
      "cell_type": "code",
      "execution_count": null,
      "metadata": {
        "colab": {
          "base_uri": "https://localhost:8080/"
        },
        "id": "bPRC_LyY3kKf",
        "outputId": "cc959b00-9970-4518-b1e0-ce5b4ffd777c"
      },
      "outputs": [
        {
          "output_type": "stream",
          "name": "stdout",
          "text": [
            "Columns index, UserIndex, Number of Comments, Number of Subscribers, Membership Duration, Number of Uploads, Profanity in UserID, Age dropped successfully.\n",
            "CSV file updated.\n"
          ]
        }
      ],
      "source": [
        "import pandas as pd\n",
        "\n",
        "def drop_columns(csv_file, columns_to_drop):\n",
        "    # Read the CSV file into a DataFrame\n",
        "    df = pd.read_csv(csv_file)\n",
        "\n",
        "    # Check if the specified columns exist in the DataFrame\n",
        "    columns_to_drop = [col for col in columns_to_drop if col in df.columns]\n",
        "\n",
        "    if columns_to_drop:\n",
        "        # Drop the specified columns\n",
        "        df = df.drop(columns=columns_to_drop, axis=1)\n",
        "        print(f\"Columns {', '.join(columns_to_drop)} dropped successfully.\")\n",
        "\n",
        "        # Save the modified DataFrame back to the CSV file\n",
        "        df.to_csv(csv_file, index=False)\n",
        "        print(\"CSV file updated.\")\n",
        "    else:\n",
        "        print(\"No valid columns to drop found in the CSV file.\")\n",
        "\n",
        "# Example usage:\n",
        "csv_file_path = 'youtube_parsed_dataset.csv'\n",
        "columns_to_remove = [\"index\",\"UserIndex\",\"Number of Comments\",\"Number of Subscribers\",\"Membership Duration\",\"Number of Uploads\",\"Profanity in UserID\",\"Age\"]\n",
        "drop_columns(csv_file_path, columns_to_remove)\n",
        "\n",
        "\n"
      ]
    },
    {
      "cell_type": "markdown",
      "source": [
        "Twitter cleaning code"
      ],
      "metadata": {
        "id": "W7XzFx0B4-v2"
      }
    },
    {
      "cell_type": "code",
      "source": [
        "import pandas as pd\n",
        "\n",
        "def drop_columns(csv_file, columns_to_drop):\n",
        "    # Read the CSV file into a DataFrame\n",
        "    df = pd.read_csv(csv_file)\n",
        "\n",
        "    # Check if the specified columns exist in the DataFrame\n",
        "    columns_to_drop = [col for col in columns_to_drop if col in df.columns]\n",
        "\n",
        "    if columns_to_drop:\n",
        "        # Drop the specified columns\n",
        "        df = df.drop(columns=columns_to_drop, axis=1)\n",
        "        print(f\"Columns {', '.join(columns_to_drop)} dropped successfully.\")\n",
        "\n",
        "        # Save the modified DataFrame back to the CSV file\n",
        "        df.to_csv(csv_file, index=False)\n",
        "        print(\"CSV file updated.\")\n",
        "    else:\n",
        "        print(\"No valid columns to drop found in the CSV file.\")\n",
        "\n",
        "# Example usage:\n",
        "csv_file_path = 'twitter_parsed_dataset.csv'\n",
        "columns_to_remove = [\"index\",\"id\"]\n",
        "drop_columns(csv_file_path, columns_to_remove)\n",
        "\n",
        "\n"
      ],
      "metadata": {
        "colab": {
          "base_uri": "https://localhost:8080/"
        },
        "id": "ryqiCS2W4mHy",
        "outputId": "fb3f6a34-e321-4ae6-9f45-4aa16953b508"
      },
      "execution_count": null,
      "outputs": [
        {
          "output_type": "stream",
          "name": "stdout",
          "text": [
            "Columns index, id dropped successfully.\n",
            "CSV file updated.\n"
          ]
        }
      ]
    },
    {
      "cell_type": "code",
      "source": [
        "import pandas as pd\n",
        "df - pd.read_csv('')"
      ],
      "metadata": {
        "id": "c299fWoz6ezm"
      },
      "execution_count": null,
      "outputs": []
    },
    {
      "cell_type": "markdown",
      "source": [
        "Column Adding code"
      ],
      "metadata": {
        "id": "apu0B1QZ-VfX"
      }
    },
    {
      "cell_type": "code",
      "source": [
        "import csv\n",
        "\n",
        "# Input and output file paths\n",
        "input_file_path = 'youtube_parsed_dataset.csv'\n",
        "output_file_path = 'youtube_parsed_dataset_source.csv'\n",
        "\n",
        "# Name of the new column and its default value\n",
        "new_column_name = 'source'\n",
        "default_value = 'youtube'\n",
        "\n",
        "# Read the existing CSV file\n",
        "with open(input_file_path, 'r') as infile:\n",
        "    reader = csv.reader(infile)\n",
        "    header = next(reader)  # Assuming the first row is a header\n",
        "\n",
        "    # Add the new column to the header\n",
        "    header.append(new_column_name)\n",
        "\n",
        "    # Add the default value to the new column for each row\n",
        "    rows = [row + [default_value] for row in reader]\n",
        "\n",
        "# Write the modified data to a new CSV file\n",
        "with open(output_file_path, 'w', newline='') as outfile:\n",
        "    writer = csv.writer(outfile)\n",
        "    writer.writerow(header)\n",
        "    writer.writerows(rows)\n"
      ],
      "metadata": {
        "id": "VdvZ-PLl-Ut5"
      },
      "execution_count": null,
      "outputs": []
    },
    {
      "cell_type": "code",
      "source": [
        "import csv\n",
        "\n",
        "# Input and output file paths\n",
        "input_file_path = 'twitter_parsed_dataset.csv'\n",
        "output_file_path = 'twitter_parsed_dataset.csv'\n",
        "\n",
        "# Name of the new column and its default value\n",
        "new_column_name = 'source'\n",
        "default_value = 'twitter'\n",
        "\n",
        "# Read the existing CSV file\n",
        "with open(input_file_path, 'r') as infile:\n",
        "    reader = csv.reader(infile)\n",
        "    header = next(reader)  # Assuming the first row is a header\n",
        "\n",
        "    # Add the new column to the header\n",
        "    header.append(new_column_name)\n",
        "\n",
        "    # Add the default value to the new column for each row\n",
        "    rows = [row + [default_value] for row in reader]\n",
        "\n",
        "# Write the modified data to a new CSV file\n",
        "with open(output_file_path, 'w', newline='') as outfile:\n",
        "    writer = csv.writer(outfile)\n",
        "    writer.writerow(header)\n",
        "    writer.writerows(rows)\n"
      ],
      "metadata": {
        "id": "NDkJDM9s-pzo"
      },
      "execution_count": null,
      "outputs": []
    },
    {
      "cell_type": "code",
      "source": [
        "import csv\n",
        "\n",
        "# Input and output file paths\n",
        "input_file_path = 'Copy of toxicity_parsed_dataset.csv'\n",
        "output_file_path = 'modified_toxicity_parsed_dataset.csv'\n",
        "\n",
        "# Name of the new column\n",
        "new_column_name = 'Annotation'\n",
        "\n",
        "# Read the existing CSV file\n",
        "with open(input_file_path, 'r') as infile:\n",
        "    reader = csv.reader(infile)\n",
        "    header = next(reader)  # Assuming the first row is a header\n",
        "\n",
        "    # Find the index of the 'oh_label' column\n",
        "    oh_label_index = header.index('oh_label')\n",
        "\n",
        "    # Add the new column to the header\n",
        "    header.append(new_column_name)\n",
        "\n",
        "    # Determine the index of the new column\n",
        "    new_column_index = len(header) - 1\n",
        "\n",
        "    # Modify the rows based on the 'oh_label' column\n",
        "    rows = []\n",
        "    for row in reader:\n",
        "        # Assuming 'oh_label' is a numeric column\n",
        "        oh_label_value = int(row[oh_label_index])\n",
        "\n",
        "        # Set 'Annotation' to 'toxicity' if 'oh_label' is not 0, else set it to 'none'\n",
        "        annotation_value = 'toxicity' if oh_label_value != 0 else 'none'\n",
        "\n",
        "        # Add the new value to the row\n",
        "        row.append(annotation_value)\n",
        "\n",
        "        # Append the modified row to the list\n",
        "        rows.append(row)\n",
        "\n",
        "# Write the modified data to a new CSV file\n",
        "with open(output_file_path, 'w', newline='') as outfile:\n",
        "    writer = csv.writer(outfile)\n",
        "    writer.writerow(header)\n",
        "    writer.writerows(rows)\n",
        "\n",
        "print(\"Modified file has been created: modified_toxicity_parsed_dataset.csv\")\n"
      ],
      "metadata": {
        "id": "5WNdxp-a_O1o",
        "colab": {
          "base_uri": "https://localhost:8080/"
        },
        "outputId": "a7a38afa-84a0-4ec4-c579-58919252007b"
      },
      "execution_count": null,
      "outputs": [
        {
          "output_type": "stream",
          "name": "stdout",
          "text": [
            "Modified file has been created: modified_toxicity_parsed_dataset.csv\n"
          ]
        }
      ]
    },
    {
      "cell_type": "code",
      "source": [
        "import csv\n",
        "\n",
        "# Input and output file paths\n",
        "input_file_path = 'attack_parsed_dataset.csv'\n",
        "output_file_path = 'attack_parsed_dataset.csv'\n",
        "\n",
        "# Name of the new column and its default value\n",
        "new_column_name = 'Annotation'\n",
        "default_value = 'attack'\n",
        "\n",
        "# Read the existing CSV file\n",
        "with open(input_file_path, 'r') as infile:\n",
        "    reader = csv.reader(infile)\n",
        "    header = next(reader)  # Assuming the first row is a header\n",
        "\n",
        "    # Add the new column to the header\n",
        "    header.append(new_column_name)\n",
        "\n",
        "    # Add the default value to the new column for each row\n",
        "    rows = [row + [default_value] for row in reader]\n",
        "\n",
        "# Write the modified data to a new CSV file\n",
        "with open(output_file_path, 'w', newline='') as outfile:\n",
        "    writer = csv.writer(outfile)\n",
        "    writer.writerow(header)\n",
        "    writer.writerows(rows)\n"
      ],
      "metadata": {
        "id": "GIUNr0C7_mkP"
      },
      "execution_count": null,
      "outputs": []
    },
    {
      "cell_type": "code",
      "source": [
        "import pandas as pd\n",
        "\n",
        "# Load the CSV file into a pandas DataFrame\n",
        "df = pd.read_csv('toxicity_parsed_dataset.csv')\n",
        "df2 = pd.read_csv('attack_parsed_dataset.csv')\n",
        "\n",
        "df.head()\n",
        "# df2.head()\n",
        "\n",
        "# Check if there is at least one row where the values in columns A and B are the same\n",
        "# is_any_row_matching = (df['Text'] == df2['Text']).any()\n",
        "\n",
        "# if is_any_row_matching:\n",
        "#     print(\"There is at least one row where columns A and B have the same values.\")\n",
        "# else:\n",
        "#     print(\"Columns A and B do not have the same values for any row.\")\n"
      ],
      "metadata": {
        "colab": {
          "base_uri": "https://localhost:8080/",
          "height": 206
        },
        "id": "ve9XHU2gBw5e",
        "outputId": "5d08ba39-666c-42e0-e124-754f0c72055b"
      },
      "execution_count": null,
      "outputs": [
        {
          "output_type": "execute_result",
          "data": {
            "text/plain": [
              "                                                Text  oh_label     source\n",
              "0  This: :One can make an analogy in mathematical...         0  wikipedia\n",
              "1  `  :Clarification for you  (and Zundark's righ...         0  wikipedia\n",
              "2                          Elected or Electoral? JHK         0  wikipedia\n",
              "3  `This is such a fun entry.   Devotchka  I once...         0  wikipedia\n",
              "4  Please relate the ozone hole to increases in c...         0  wikipedia"
            ],
            "text/html": [
              "\n",
              "  <div id=\"df-086a5fed-29f7-4a0e-af5c-384a921f61a7\" class=\"colab-df-container\">\n",
              "    <div>\n",
              "<style scoped>\n",
              "    .dataframe tbody tr th:only-of-type {\n",
              "        vertical-align: middle;\n",
              "    }\n",
              "\n",
              "    .dataframe tbody tr th {\n",
              "        vertical-align: top;\n",
              "    }\n",
              "\n",
              "    .dataframe thead th {\n",
              "        text-align: right;\n",
              "    }\n",
              "</style>\n",
              "<table border=\"1\" class=\"dataframe\">\n",
              "  <thead>\n",
              "    <tr style=\"text-align: right;\">\n",
              "      <th></th>\n",
              "      <th>Text</th>\n",
              "      <th>oh_label</th>\n",
              "      <th>source</th>\n",
              "    </tr>\n",
              "  </thead>\n",
              "  <tbody>\n",
              "    <tr>\n",
              "      <th>0</th>\n",
              "      <td>This: :One can make an analogy in mathematical...</td>\n",
              "      <td>0</td>\n",
              "      <td>wikipedia</td>\n",
              "    </tr>\n",
              "    <tr>\n",
              "      <th>1</th>\n",
              "      <td>`  :Clarification for you  (and Zundark's righ...</td>\n",
              "      <td>0</td>\n",
              "      <td>wikipedia</td>\n",
              "    </tr>\n",
              "    <tr>\n",
              "      <th>2</th>\n",
              "      <td>Elected or Electoral? JHK</td>\n",
              "      <td>0</td>\n",
              "      <td>wikipedia</td>\n",
              "    </tr>\n",
              "    <tr>\n",
              "      <th>3</th>\n",
              "      <td>`This is such a fun entry.   Devotchka  I once...</td>\n",
              "      <td>0</td>\n",
              "      <td>wikipedia</td>\n",
              "    </tr>\n",
              "    <tr>\n",
              "      <th>4</th>\n",
              "      <td>Please relate the ozone hole to increases in c...</td>\n",
              "      <td>0</td>\n",
              "      <td>wikipedia</td>\n",
              "    </tr>\n",
              "  </tbody>\n",
              "</table>\n",
              "</div>\n",
              "    <div class=\"colab-df-buttons\">\n",
              "\n",
              "  <div class=\"colab-df-container\">\n",
              "    <button class=\"colab-df-convert\" onclick=\"convertToInteractive('df-086a5fed-29f7-4a0e-af5c-384a921f61a7')\"\n",
              "            title=\"Convert this dataframe to an interactive table.\"\n",
              "            style=\"display:none;\">\n",
              "\n",
              "  <svg xmlns=\"http://www.w3.org/2000/svg\" height=\"24px\" viewBox=\"0 -960 960 960\">\n",
              "    <path d=\"M120-120v-720h720v720H120Zm60-500h600v-160H180v160Zm220 220h160v-160H400v160Zm0 220h160v-160H400v160ZM180-400h160v-160H180v160Zm440 0h160v-160H620v160ZM180-180h160v-160H180v160Zm440 0h160v-160H620v160Z\"/>\n",
              "  </svg>\n",
              "    </button>\n",
              "\n",
              "  <style>\n",
              "    .colab-df-container {\n",
              "      display:flex;\n",
              "      gap: 12px;\n",
              "    }\n",
              "\n",
              "    .colab-df-convert {\n",
              "      background-color: #E8F0FE;\n",
              "      border: none;\n",
              "      border-radius: 50%;\n",
              "      cursor: pointer;\n",
              "      display: none;\n",
              "      fill: #1967D2;\n",
              "      height: 32px;\n",
              "      padding: 0 0 0 0;\n",
              "      width: 32px;\n",
              "    }\n",
              "\n",
              "    .colab-df-convert:hover {\n",
              "      background-color: #E2EBFA;\n",
              "      box-shadow: 0px 1px 2px rgba(60, 64, 67, 0.3), 0px 1px 3px 1px rgba(60, 64, 67, 0.15);\n",
              "      fill: #174EA6;\n",
              "    }\n",
              "\n",
              "    .colab-df-buttons div {\n",
              "      margin-bottom: 4px;\n",
              "    }\n",
              "\n",
              "    [theme=dark] .colab-df-convert {\n",
              "      background-color: #3B4455;\n",
              "      fill: #D2E3FC;\n",
              "    }\n",
              "\n",
              "    [theme=dark] .colab-df-convert:hover {\n",
              "      background-color: #434B5C;\n",
              "      box-shadow: 0px 1px 3px 1px rgba(0, 0, 0, 0.15);\n",
              "      filter: drop-shadow(0px 1px 2px rgba(0, 0, 0, 0.3));\n",
              "      fill: #FFFFFF;\n",
              "    }\n",
              "  </style>\n",
              "\n",
              "    <script>\n",
              "      const buttonEl =\n",
              "        document.querySelector('#df-086a5fed-29f7-4a0e-af5c-384a921f61a7 button.colab-df-convert');\n",
              "      buttonEl.style.display =\n",
              "        google.colab.kernel.accessAllowed ? 'block' : 'none';\n",
              "\n",
              "      async function convertToInteractive(key) {\n",
              "        const element = document.querySelector('#df-086a5fed-29f7-4a0e-af5c-384a921f61a7');\n",
              "        const dataTable =\n",
              "          await google.colab.kernel.invokeFunction('convertToInteractive',\n",
              "                                                    [key], {});\n",
              "        if (!dataTable) return;\n",
              "\n",
              "        const docLinkHtml = 'Like what you see? Visit the ' +\n",
              "          '<a target=\"_blank\" href=https://colab.research.google.com/notebooks/data_table.ipynb>data table notebook</a>'\n",
              "          + ' to learn more about interactive tables.';\n",
              "        element.innerHTML = '';\n",
              "        dataTable['output_type'] = 'display_data';\n",
              "        await google.colab.output.renderOutput(dataTable, element);\n",
              "        const docLink = document.createElement('div');\n",
              "        docLink.innerHTML = docLinkHtml;\n",
              "        element.appendChild(docLink);\n",
              "      }\n",
              "    </script>\n",
              "  </div>\n",
              "\n",
              "\n",
              "<div id=\"df-d6f5e670-9d8a-442b-a3db-9ab4fdc32147\">\n",
              "  <button class=\"colab-df-quickchart\" onclick=\"quickchart('df-d6f5e670-9d8a-442b-a3db-9ab4fdc32147')\"\n",
              "            title=\"Suggest charts\"\n",
              "            style=\"display:none;\">\n",
              "\n",
              "<svg xmlns=\"http://www.w3.org/2000/svg\" height=\"24px\"viewBox=\"0 0 24 24\"\n",
              "     width=\"24px\">\n",
              "    <g>\n",
              "        <path d=\"M19 3H5c-1.1 0-2 .9-2 2v14c0 1.1.9 2 2 2h14c1.1 0 2-.9 2-2V5c0-1.1-.9-2-2-2zM9 17H7v-7h2v7zm4 0h-2V7h2v10zm4 0h-2v-4h2v4z\"/>\n",
              "    </g>\n",
              "</svg>\n",
              "  </button>\n",
              "\n",
              "<style>\n",
              "  .colab-df-quickchart {\n",
              "      --bg-color: #E8F0FE;\n",
              "      --fill-color: #1967D2;\n",
              "      --hover-bg-color: #E2EBFA;\n",
              "      --hover-fill-color: #174EA6;\n",
              "      --disabled-fill-color: #AAA;\n",
              "      --disabled-bg-color: #DDD;\n",
              "  }\n",
              "\n",
              "  [theme=dark] .colab-df-quickchart {\n",
              "      --bg-color: #3B4455;\n",
              "      --fill-color: #D2E3FC;\n",
              "      --hover-bg-color: #434B5C;\n",
              "      --hover-fill-color: #FFFFFF;\n",
              "      --disabled-bg-color: #3B4455;\n",
              "      --disabled-fill-color: #666;\n",
              "  }\n",
              "\n",
              "  .colab-df-quickchart {\n",
              "    background-color: var(--bg-color);\n",
              "    border: none;\n",
              "    border-radius: 50%;\n",
              "    cursor: pointer;\n",
              "    display: none;\n",
              "    fill: var(--fill-color);\n",
              "    height: 32px;\n",
              "    padding: 0;\n",
              "    width: 32px;\n",
              "  }\n",
              "\n",
              "  .colab-df-quickchart:hover {\n",
              "    background-color: var(--hover-bg-color);\n",
              "    box-shadow: 0 1px 2px rgba(60, 64, 67, 0.3), 0 1px 3px 1px rgba(60, 64, 67, 0.15);\n",
              "    fill: var(--button-hover-fill-color);\n",
              "  }\n",
              "\n",
              "  .colab-df-quickchart-complete:disabled,\n",
              "  .colab-df-quickchart-complete:disabled:hover {\n",
              "    background-color: var(--disabled-bg-color);\n",
              "    fill: var(--disabled-fill-color);\n",
              "    box-shadow: none;\n",
              "  }\n",
              "\n",
              "  .colab-df-spinner {\n",
              "    border: 2px solid var(--fill-color);\n",
              "    border-color: transparent;\n",
              "    border-bottom-color: var(--fill-color);\n",
              "    animation:\n",
              "      spin 1s steps(1) infinite;\n",
              "  }\n",
              "\n",
              "  @keyframes spin {\n",
              "    0% {\n",
              "      border-color: transparent;\n",
              "      border-bottom-color: var(--fill-color);\n",
              "      border-left-color: var(--fill-color);\n",
              "    }\n",
              "    20% {\n",
              "      border-color: transparent;\n",
              "      border-left-color: var(--fill-color);\n",
              "      border-top-color: var(--fill-color);\n",
              "    }\n",
              "    30% {\n",
              "      border-color: transparent;\n",
              "      border-left-color: var(--fill-color);\n",
              "      border-top-color: var(--fill-color);\n",
              "      border-right-color: var(--fill-color);\n",
              "    }\n",
              "    40% {\n",
              "      border-color: transparent;\n",
              "      border-right-color: var(--fill-color);\n",
              "      border-top-color: var(--fill-color);\n",
              "    }\n",
              "    60% {\n",
              "      border-color: transparent;\n",
              "      border-right-color: var(--fill-color);\n",
              "    }\n",
              "    80% {\n",
              "      border-color: transparent;\n",
              "      border-right-color: var(--fill-color);\n",
              "      border-bottom-color: var(--fill-color);\n",
              "    }\n",
              "    90% {\n",
              "      border-color: transparent;\n",
              "      border-bottom-color: var(--fill-color);\n",
              "    }\n",
              "  }\n",
              "</style>\n",
              "\n",
              "  <script>\n",
              "    async function quickchart(key) {\n",
              "      const quickchartButtonEl =\n",
              "        document.querySelector('#' + key + ' button');\n",
              "      quickchartButtonEl.disabled = true;  // To prevent multiple clicks.\n",
              "      quickchartButtonEl.classList.add('colab-df-spinner');\n",
              "      try {\n",
              "        const charts = await google.colab.kernel.invokeFunction(\n",
              "            'suggestCharts', [key], {});\n",
              "      } catch (error) {\n",
              "        console.error('Error during call to suggestCharts:', error);\n",
              "      }\n",
              "      quickchartButtonEl.classList.remove('colab-df-spinner');\n",
              "      quickchartButtonEl.classList.add('colab-df-quickchart-complete');\n",
              "    }\n",
              "    (() => {\n",
              "      let quickchartButtonEl =\n",
              "        document.querySelector('#df-d6f5e670-9d8a-442b-a3db-9ab4fdc32147 button');\n",
              "      quickchartButtonEl.style.display =\n",
              "        google.colab.kernel.accessAllowed ? 'block' : 'none';\n",
              "    })();\n",
              "  </script>\n",
              "</div>\n",
              "    </div>\n",
              "  </div>\n"
            ]
          },
          "metadata": {},
          "execution_count": 20
        }
      ]
    },
    {
      "cell_type": "code",
      "source": [
        "tw_df = pd.read_csv(\"https://raw.githubusercontent.com/vaamps/cyberbullying-detection/main/datasets/twitter_parsed_dataset.csv\")\n",
        "w_df = pd.read_csv(\"https://raw.githubusercontent.com/vaamps/cyberbullying-detection/main/datasets/wikipedia_parsed_dataset.csv\")\n",
        "\n",
        "print(len(tw_df))\n",
        "print(len(w_df))\n",
        "\n",
        "y_df = pd.read_csv(\"https://raw.githubusercontent.com/vaamps/cyberbullying-detection/main/datasets/youtube_parsed_dataset.csv\")\n",
        "k_df = pd.read_csv(\"https://raw.githubusercontent.com/vaamps/cyberbullying-detection/main/datasets/kaggle_parsed_dataset.csv\")\n",
        "print(len(y_df))\n",
        "print(len(k_df))\n",
        "\n"
      ],
      "metadata": {
        "id": "cHMom7XuIqGP",
        "colab": {
          "base_uri": "https://localhost:8080/"
        },
        "outputId": "99c1daad-9115-4ec6-ddea-1d54f39a01e6"
      },
      "execution_count": null,
      "outputs": [
        {
          "output_type": "stream",
          "name": "stdout",
          "text": [
            "16851\n",
            "159686\n",
            "3464\n",
            "8799\n"
          ]
        }
      ]
    },
    {
      "cell_type": "code",
      "source": [
        "import pandas as pd\n",
        "\n",
        "# File paths\n",
        "file1_path = 'https://raw.githubusercontent.com/vaamps/cyberbullying-detection/main/datasets/twitter_parsed_dataset.csv'\n",
        "file2_path = 'https://raw.githubusercontent.com/vaamps/cyberbullying-detection/main/datasets/wikipedia_parsed_dataset.csv'\n",
        "output_file_path = 'output_combined.csv'\n",
        "\n",
        "# Read the CSV files into pandas DataFrames\n",
        "df1 = pd.read_csv(file1_path)\n",
        "df2 = pd.read_csv(file2_path)\n",
        "\n",
        "# Append the DataFrames\n",
        "result_df = df1.append(df2, ignore_index=True)\n",
        "\n",
        "# Write the combined DataFrame to a new CSV file\n",
        "result_df.to_csv(output_file_path, index=False)\n",
        "\n",
        "print(f'The two CSV files have been appended and saved to {output_file_path}.')\n"
      ],
      "metadata": {
        "colab": {
          "base_uri": "https://localhost:8080/"
        },
        "id": "BWmb_04Jd0IX",
        "outputId": "7981f5ae-f130-4b62-abf2-1d87233ef4f0"
      },
      "execution_count": null,
      "outputs": [
        {
          "output_type": "stream",
          "name": "stderr",
          "text": [
            "<ipython-input-10-deb6463036d3>:13: FutureWarning: The frame.append method is deprecated and will be removed from pandas in a future version. Use pandas.concat instead.\n",
            "  result_df = df1.append(df2, ignore_index=True)\n"
          ]
        },
        {
          "output_type": "stream",
          "name": "stdout",
          "text": [
            "The two CSV files have been appended and saved to output_combined.csv.\n"
          ]
        }
      ]
    },
    {
      "cell_type": "code",
      "source": [
        "import pandas as pd\n",
        "\n",
        "# Read the original CSV\n",
        "file_path = 'https://raw.githubusercontent.com/vaamps/cyberbullying-detection/main/datasets/train_dataset.csv'\n",
        "df = pd.read_csv(file_path)\n",
        "print(f\"Number of rows in the DataFrame: {df.shape[0]}\")\n",
        "# Shuffle the DataFrame rows\n",
        "df = df.sample(frac=1).reset_index(drop=True)\n",
        "print(f\"Number of rows in the DataFrame: {df.shape[0]}\")"
      ],
      "metadata": {
        "colab": {
          "base_uri": "https://localhost:8080/"
        },
        "id": "DSpT2R4gllLa",
        "outputId": "48ba1d5b-9095-4412-9087-84c57336acee"
      },
      "execution_count": null,
      "outputs": [
        {
          "output_type": "stream",
          "name": "stdout",
          "text": [
            "Number of rows in the DataFrame: 176537\n",
            "Number of rows in the DataFrame: 176537\n"
          ]
        }
      ]
    },
    {
      "cell_type": "code",
      "source": [
        "# Save the shuffled DataFrame to a new CSV file in Google Drive\n",
        "save_path = '/content/drive/MyDrive/CSE 572 DM Final Project/dataset/shuffled_data.csv'\n",
        "df.to_csv(save_path, index=False)"
      ],
      "metadata": {
        "id": "p2b8e2Xkm46C"
      },
      "execution_count": null,
      "outputs": []
    },
    {
      "cell_type": "markdown",
      "source": [
        "Pre-processing dataset"
      ],
      "metadata": {
        "id": "DjM0-SKXo_Jj"
      }
    },
    {
      "cell_type": "code",
      "source": [
        "import re\n",
        "\n",
        "def clean_text(text):\n",
        "    # Remove URLs\n",
        "    text = re.sub(r'http\\S+', '', text)\n",
        "    # Remove mentions\n",
        "    text = re.sub(r'@[A-Za-z0-9_]+', '', text)\n",
        "    # Remove hashtags\n",
        "    # text = re.sub(r'#', '', text)\n",
        "    # Remove special characters, emojis, and symbols\n",
        "    # text = re.sub(r'[^A-Za-z0-9 ]+', '', text)\n",
        "    # Converting the text into lowercase\n",
        "    text = text.lower()\n",
        "\n",
        "    return text\n"
      ],
      "metadata": {
        "id": "FwFXmEPUo-qH"
      },
      "execution_count": 2,
      "outputs": []
    },
    {
      "cell_type": "code",
      "source": [
        "# Replacing NaN with 'none'\n",
        "import pandas as pd\n",
        "\n",
        "def replace_NaN(filename):\n",
        "  # Load your CSV file into a DataFrame\n",
        "  df = pd.read_csv(filename)\n",
        "  # Replace NaN with None in the 'annotation' column\n",
        "  df['annotation'] = df['annotation'].where(pd.notna(df['annotation']), 'none')\n",
        "  # Save the DataFrame back to a CSV file\n",
        "  df.to_csv(filename, index=False)\n",
        "\n",
        "# replace_NaN('your_file.csv')\n",
        "\n"
      ],
      "metadata": {
        "id": "XvM002UDpo-w"
      },
      "execution_count": 3,
      "outputs": []
    },
    {
      "cell_type": "code",
      "source": [
        "def remove_unicode(text):\n",
        "    # Encode to ASCII and decode back to UTF-8 to remove non-ASCII characters\n",
        "    cleaned_text = text.encode('ascii', 'ignore').decode('utf-8', 'ignore')\n",
        "    return cleaned_text"
      ],
      "metadata": {
        "id": "0ca7UM5drM8g"
      },
      "execution_count": 4,
      "outputs": []
    },
    {
      "cell_type": "code",
      "source": [
        "import nltk\n",
        "nltk.download('punkt')\n",
        "nltk.download('stopwords')\n",
        "import numpy as np\n",
        "import pandas as pd\n",
        "\n",
        "import string\n",
        "import nltk\n",
        "from nltk.corpus import stopwords\n",
        "from nltk.stem.porter import *"
      ],
      "metadata": {
        "colab": {
          "base_uri": "https://localhost:8080/"
        },
        "id": "LmMjT8vfx6Xf",
        "outputId": "2edf9a99-8a75-4d4d-e5b4-7e0fda90b132"
      },
      "execution_count": 5,
      "outputs": [
        {
          "output_type": "stream",
          "name": "stderr",
          "text": [
            "[nltk_data] Downloading package punkt to /root/nltk_data...\n",
            "[nltk_data]   Unzipping tokenizers/punkt.zip.\n",
            "[nltk_data] Downloading package stopwords to /root/nltk_data...\n",
            "[nltk_data]   Unzipping corpora/stopwords.zip.\n"
          ]
        }
      ]
    },
    {
      "cell_type": "code",
      "source": [
        "\n",
        "stemmer = PorterStemmer()\n",
        "remove_punctuation_map = dict((ord(char), None) for char in string.punctuation)\n",
        "\n",
        "def get_tokens(text):\n",
        "    \"\"\"\n",
        "        Perform lowercase, punctuation and stopword removal, tokenization\n",
        "        and finally stemming to get tokens from given text\n",
        "    \"\"\"\n",
        "    lowers = text.lower()\n",
        "    no_punctuation = lowers.translate(remove_punctuation_map)\n",
        "    tokens = nltk.word_tokenize(no_punctuation)\n",
        "    filtered = [w for w in tokens if not w in stopwords.words(\"english\")]\n",
        "    stemmed = []\n",
        "    for item in filtered:\n",
        "        stemmed.append(stemmer.stem(item))\n",
        "\n",
        "    return stemmed"
      ],
      "metadata": {
        "id": "iUvNxN0Zxlz5"
      },
      "execution_count": 6,
      "outputs": []
    },
    {
      "cell_type": "code",
      "source": [
        "import pandas as pd\n",
        "import re\n",
        "# Example\n",
        "tweet = \"Going to make some pancakes.....Don't hve any strawberries ....🍓🍓🍓🍓but I hve bananas .....🍌🍌🍌🍌. ;))) #MKR\"\n",
        "cleaned_tweet = remove_unicode(tweet)\n",
        "print(cleaned_tweet)\n",
        "\n",
        "# Apply the function to the 'text' column\n",
        "# df['text'] = df['text'].apply(lambda x: clean_text(x))\n",
        "\n",
        "# Save the DataFrame back to a CSV file\n",
        "# df.to_csv('updated_file.csv', index=False)"
      ],
      "metadata": {
        "id": "p5B4KEPmpfLs",
        "colab": {
          "base_uri": "https://localhost:8080/"
        },
        "outputId": "01b3aef4-1896-4f5f-fdbd-0b36678656a7"
      },
      "execution_count": null,
      "outputs": [
        {
          "output_type": "stream",
          "name": "stdout",
          "text": [
            "Going to make some pancakes.....Don't hve any strawberries ....but I hve bananas ...... ;))) #MKR\n"
          ]
        }
      ]
    },
    {
      "cell_type": "code",
      "source": [
        "train_df = pd.read_csv(\"https://raw.githubusercontent.com/vaamps/cyberbullying-detection/main/datasets/train_dataset.csv\")\n",
        "train_df = train_df.head()\n",
        "train_df['Text'] = train_df['Text'].apply(lambda x: clean_text(str(x)))\n",
        "train_df['Text'] = train_df['Text'].apply(lambda x: remove_unicode(str(x)))\n",
        "train_df['U_Text'] = train_df['Text'].apply(lambda x: get_tokens(str(x)))\n",
        "print(train_df.head())\n",
        "print(train_df.dtypes)\n"
      ],
      "metadata": {
        "colab": {
          "base_uri": "https://localhost:8080/"
        },
        "id": "d5jyaRSauhSR",
        "outputId": "156467f6-9785-4a6c-a69c-2ca9bee8f445"
      },
      "execution_count": 8,
      "outputs": [
        {
          "output_type": "stream",
          "name": "stdout",
          "text": [
            "   id                                               Text Annotation  oh_label  \\\n",
            "0   1  good idea. i'm going to walk away from wp now ...       none       0.0   \n",
            "1   2  will this tart be the deconstructing of the #s...     sexism       1.0   \n",
            "2   3    wrong, he was 100% irish. he was born in san...       none       0.0   \n",
            "3   4  ` :::hey there!  something tells me that my po...       none       0.0   \n",
            "4   5   ::please stop disrupting wikipedia to make a ...       none       0.0   \n",
            "\n",
            "      source                                             U_Text  \n",
            "0  wikipedia  [good, idea, im, go, walk, away, wp, he, obvio...  \n",
            "1    twitter              [tart, deconstruct, sassi, girl, mkr]  \n",
            "2  wikipedia  [wrong, 100, irish, born, sandymount, dublin, ...  \n",
            "3  wikipedia  [hey, someth, tell, poor, wikistalk, never, re...  \n",
            "4  wikipedia  [pleas, stop, disrupt, wikipedia, make, wppoin...  \n",
            "id              int64\n",
            "Text           object\n",
            "Annotation     object\n",
            "oh_label      float64\n",
            "source         object\n",
            "U_Text         object\n",
            "dtype: object\n"
          ]
        }
      ]
    }
  ]
}